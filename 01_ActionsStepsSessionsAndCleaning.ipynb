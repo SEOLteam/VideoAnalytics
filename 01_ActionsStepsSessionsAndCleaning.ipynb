{
 "cells": [
  {
   "cell_type": "markdown",
   "metadata": {},
   "source": [
    "# Actions, Steps, Watching Sessions and Cleaning"
   ]
  },
  {
   "cell_type": "markdown",
   "metadata": {},
   "source": [
    "Note: this is updated to be compatible with new data \"Scrubbing\" (aka. \"Jump\") as in June 2015. Work on both full length and class x videos."
   ]
  },
  {
   "cell_type": "markdown",
   "metadata": {},
   "source": [
    "## Define directories, data files, and actions with formatting."
   ]
  },
  {
   "cell_type": "markdown",
   "metadata": {},
   "source": [
    "First, we specify course name and specific video name that we want to process."
   ]
  },
  {
   "cell_type": "code",
   "execution_count": 1,
   "metadata": {
    "collapsed": false
   },
   "outputs": [],
   "source": [
    "#coursename = 'CS229'\n",
    "#videoname = 'CS22901Dec2014'\n",
    "\n",
    "#coursename = 'CS107_ClassX'\n",
    "#videoname = 'CS10706Jan2014_Introduction_to_C_Nuances'\n",
    "#videoname = 'CS10707Feb2014_Load_Effective_Address_and_Move_abuses'\n",
    "#videoname = 'CS10721Feb2014_Compilation_Tool_Chain'\n",
    "\n",
    "coursename = 'CS110_ClassX'\n",
    "#videoname = 'CS11002Apr2014_Copying_in_Unix'\n",
    "#videoname = 'CS11002Apr2014_Unix_Builtins'\n",
    "videoname = 'CS11002Apr2014_Full'"
   ]
  },
  {
   "cell_type": "markdown",
   "metadata": {},
   "source": [
    "Here we import package for data analysis called 'pandas' and other relevant packages."
   ]
  },
  {
   "cell_type": "code",
   "execution_count": 2,
   "metadata": {
    "collapsed": false
   },
   "outputs": [],
   "source": [
    "import pandas as pd\n",
    "import numpy as np\n",
    "import matplotlib.pyplot as plt\n",
    "import os\n",
    "import datetime\n",
    "import math\n",
    "%matplotlib inline"
   ]
  },
  {
   "cell_type": "markdown",
   "metadata": {},
   "source": [
    "Next, we specify main directory and create output directories. \"Big\" directory contains outputs that requires further processing. \"Small\" directory contains outputs that requires no/little processing."
   ]
  },
  {
   "cell_type": "code",
   "execution_count": 3,
   "metadata": {
    "collapsed": false
   },
   "outputs": [],
   "source": [
    "#Main directory contains data (this is my local machine)\n",
    "#mainDir = 'C:/Users/Tee/Documents/Active/EducationProject/SEOL/VideoAnalytics/main' #(Tee's ICME local machine)\n",
    "mainDir = 'C:/Users/Admin/Dropbox/Active/EducationProject/SEOL/VideoAnalytics/main' #(Tee's dropbox machine)\n",
    "#set up output directory\n",
    "OutputBigDirectory = mainDir + '/output/big/'+ coursename +'/'+ videoname \n",
    "OutputSmallDirectory = mainDir + '/output/small/'+ coursename +'/'+ videoname\n",
    "if not os.path.exists(OutputBigDirectory):\n",
    "    os.makedirs(OutputBigDirectory)\n",
    "if not os.path.exists(OutputSmallDirectory):\n",
    "    os.makedirs(OutputSmallDirectory)"
   ]
  },
  {
   "cell_type": "markdown",
   "metadata": {},
   "source": [
    "Read correspond raw CSV file. The data folder should be on the main directory."
   ]
  },
  {
   "cell_type": "code",
   "execution_count": 4,
   "metadata": {
    "collapsed": false
   },
   "outputs": [],
   "source": [
    "#We want HashedUser, UserType, VideoActionTypeName to be string for sorting purpose\n",
    "raw = pd.read_csv(mainDir+'/data/'+ coursename + '/' + videoname +'.csv',\n",
    "                  dtype={'HashedUser':'object','UserType':'object','VideoActionTypeName':'object'})"
   ]
  },
  {
   "cell_type": "code",
   "execution_count": 5,
   "metadata": {
    "collapsed": false
   },
   "outputs": [
    {
     "data": {
      "text/html": [
       "<div style=\"max-height:1000px;max-width:1500px;overflow:auto;\">\n",
       "<table border=\"1\" class=\"dataframe\">\n",
       "  <thead>\n",
       "    <tr style=\"text-align: right;\">\n",
       "      <th></th>\n",
       "      <th>VideoLogId</th>\n",
       "      <th>VideoActionLogId</th>\n",
       "      <th>LogDate</th>\n",
       "      <th>DepartmentName</th>\n",
       "      <th>DepartmentPrefix</th>\n",
       "      <th>CourseNumber</th>\n",
       "      <th>QuarterName</th>\n",
       "      <th>QuarterYear</th>\n",
       "      <th>CourseName</th>\n",
       "      <th>LectureDate</th>\n",
       "      <th>HashedUser</th>\n",
       "      <th>UserType</th>\n",
       "      <th>Duration</th>\n",
       "      <th>ActionTime</th>\n",
       "      <th>StartTime</th>\n",
       "      <th>EndTime</th>\n",
       "      <th>VideoActionTypeName</th>\n",
       "      <th>Speed</th>\n",
       "      <th>Resolution</th>\n",
       "    </tr>\n",
       "  </thead>\n",
       "  <tbody>\n",
       "    <tr>\n",
       "      <th>0</th>\n",
       "      <td> 54</td>\n",
       "      <td> 281</td>\n",
       "      <td> 2014-06-20 19:15:38.563</td>\n",
       "      <td> Computer Science</td>\n",
       "      <td> CS</td>\n",
       "      <td> 110</td>\n",
       "      <td> Spring</td>\n",
       "      <td> 2014</td>\n",
       "      <td> Principles of Computer Systems</td>\n",
       "      <td> 2014-04-02</td>\n",
       "      <td> 2096691145</td>\n",
       "      <td> WEBAUTH</td>\n",
       "      <td> 2926</td>\n",
       "      <td> 2014-06-20 19:15:39.000</td>\n",
       "      <td>-1</td>\n",
       "      <td>-1</td>\n",
       "      <td> Loaded</td>\n",
       "      <td> 1</td>\n",
       "      <td> 720</td>\n",
       "    </tr>\n",
       "  </tbody>\n",
       "</table>\n",
       "</div>"
      ],
      "text/plain": [
       "   VideoLogId  VideoActionLogId                  LogDate    DepartmentName  \\\n",
       "0          54               281  2014-06-20 19:15:38.563  Computer Science   \n",
       "\n",
       "  DepartmentPrefix  CourseNumber QuarterName  QuarterYear  \\\n",
       "0               CS           110      Spring         2014   \n",
       "\n",
       "                       CourseName LectureDate  HashedUser UserType  Duration  \\\n",
       "0  Principles of Computer Systems  2014-04-02  2096691145  WEBAUTH      2926   \n",
       "\n",
       "                ActionTime  StartTime  EndTime VideoActionTypeName  Speed  \\\n",
       "0  2014-06-20 19:15:39.000         -1       -1              Loaded      1   \n",
       "\n",
       "   Resolution  \n",
       "0         720  "
      ]
     },
     "execution_count": 5,
     "metadata": {},
     "output_type": "execute_result"
    }
   ],
   "source": [
    "raw[:1]"
   ]
  },
  {
   "cell_type": "markdown",
   "metadata": {},
   "source": [
    "In raw data frame, there are number of columns. Several of them are just general information of the course and video, which are same across all rows. We will keep those general information in another data frame called 'Essential'."
   ]
  },
  {
   "cell_type": "code",
   "execution_count": 74,
   "metadata": {
    "collapsed": false
   },
   "outputs": [],
   "source": [
    "Essential = pd.DataFrame({'Key':['Course Name'],'Value':[coursename]})\n",
    "Essential.loc[Essential.shape[0]] = ['Video Name',videoname]\n",
    "Essential.loc[Essential.shape[0]] = ['Quarter',raw.QuarterName[0] + ' ' + str(raw.QuarterYear[0])]\n",
    "Essential.loc[Essential.shape[0]] = ['Lecture Date',raw.LectureDate[0]]\n",
    "Essential.loc[Essential.shape[0]] = ['Duration[sec]',raw.Duration[0]]\n",
    "Essential.loc[Essential.shape[0]] = ['Duration[min]',int(math.ceil(raw.Duration[0]/60))]\n",
    "\n",
    "#Identify the maximum second and minute marker\n",
    "MaxSecondMarker = raw.Duration[0]\n",
    "MaxMinuteMarker = MaxSecondMarker/60+1\n",
    "\n",
    "#select only relevant columns\n",
    "KeepColumns = ['VideoLogId','VideoActionLogId','HashedUser','UserType',\\\n",
    "               'ActionTime','StartTime','EndTime','VideoActionTypeName','Speed','Resolution']\n",
    "raw = raw[KeepColumns]"
   ]
  },
  {
   "cell_type": "markdown",
   "metadata": {},
   "source": [
    "In raw data frame, each row represents one $\\textbf{action}$. There are several kinds of action:\n",
    "\n",
    "1) Actions done by users ($\\texttt{VideoActionTypeName}$ = 'play,pause,jump,speedchange,resolutionchange').\n",
    "\n",
    "2) Actions done by the system at the beginning and end of video (($\\texttt{VideoActionTypeName}$  = 'loaded, end') or during the video ($\\texttt{VideoActionTypeName}$  = integer indicated the minute mark that play passes). \n",
    "\n",
    "3) Actions derived by the system from previous actions ($\\texttt{VideoActionTypeName}$  = 'Watching').  \n",
    "\n",
    "We remove the 3rd kind of action out and rename all integers in $\\texttt{VideoActionTypeName}$  as 'MinuteMarker'.\n",
    "\n",
    "$\\texttt{StartTime}$  and $\\texttt{EndTime}$ are quantities indicating where action starts and ends in video timeline. Action 'Jump' has both $\\texttt{StartTime}$ and $\\texttt{EndTime}$ recorded. For other actions, $\\texttt{EndTime}$ is set to be -1. For the sake of futher processing, we will define $\\texttt{EndTime}$ for other actions to be equal to $\\texttt{StartTime}$."
   ]
  },
  {
   "cell_type": "markdown",
   "metadata": {},
   "source": [
    "There is a new type of action called 'Scrubbing' in new data format (June 2015). It is just a jump."
   ]
  },
  {
   "cell_type": "code",
   "execution_count": 75,
   "metadata": {
    "collapsed": false
   },
   "outputs": [],
   "source": [
    "#deselect data with VideoActionTypeName 'Watching'\n",
    "raw = raw.loc[raw.VideoActionTypeName != 'Watching']\n",
    "\n",
    "#Convert Scrubiing to Jumps\n",
    "raw.loc[raw.VideoActionTypeName == 'Scrubbing',('VideoActionTypeName')] = 'Jump'\n",
    "\n",
    "#convert ActionTime (aka. user timestamp) into datetime format\n",
    "raw.ActionTime = raw.ActionTime.map(lambda x: datetime.datetime.strptime(x,\"%Y-%m-%d %H:%M:%S.%f\"))\n",
    "#convert 1,2,..., MaxMinuteMarker as 'MinuteMarker'\n",
    "#raw.VideoActionTypeName[raw.VideoActionTypeName.map(lambda x: x in map(str, range(1,MaxMinuteMarker+1)))] = 'MinuteMarker'\n",
    "raw.loc[raw.VideoActionTypeName.map(lambda x: x in map(str, range(1,MaxMinuteMarker+1))),('VideoActionTypeName')] = 'MinuteMarker'\n",
    "\n",
    "#add EndTime to single video timestamp entry\n",
    "raw.loc[raw.VideoActionTypeName != 'Jump',('EndTime')] = raw.loc[raw.VideoActionTypeName != 'Jump',('StartTime')]"
   ]
  },
  {
   "cell_type": "markdown",
   "metadata": {},
   "source": [
    "It is useful to sort data according to users then by $\\texttt{ActionTime}$ (timestamp in user timeline). We record number of users in raw data in Essential data frame."
   ]
  },
  {
   "cell_type": "code",
   "execution_count": 76,
   "metadata": {
    "collapsed": false
   },
   "outputs": [],
   "source": [
    "#sort data by HashedUser then by ActionTime\n",
    "raw.sort(['HashedUser', 'ActionTime'],inplace=True)\n",
    "\n",
    "#create a list of users\n",
    "HashedUserList = sorted(list(set(raw.HashedUser)))\n",
    "\n",
    "Essential.loc[Essential.shape[0]] = ['Number of raw users',len(HashedUserList)]\n",
    "Essential.loc[Essential.shape[0]] = ['Number of raw WEBAUTH users',len(set(raw[raw.UserType=='WEBAUTH'].HashedUser))]\n",
    "Essential.loc[Essential.shape[0]] = ['Number of raw ONECE users',len(set(raw[raw.UserType=='ONECE'].HashedUser))]"
   ]
  },
  {
   "cell_type": "markdown",
   "metadata": {},
   "source": [
    "## Define steps"
   ]
  },
  {
   "cell_type": "markdown",
   "metadata": {},
   "source": [
    "Now that we have a stream of actions sorted by users then by timestamp in user timeline, we define $\\textbf{step}$ as interval between two actions. Step $i$ is between action $i$ and $i+1$ and stored in the same row as action $i$. \n",
    "\n",
    "For each step, we can define step length in user timeline and in video timeline. Note that these two measures are not same. For example, between action 'Pause' and 'Play', step length in user timeline is likely to be greater tha zero, while step length in video timeline is zero.\n",
    "\n",
    "For each step, we can also define step type. Basic types are 'TransitionToNewVideoLogId','Watch','Break', and 'StepAfterEndOfVideo'. Note that 'TransitionToNew VideoLogId' indicates the change of video log IDs. These log IDs change every time the page is re-logined. 'Watch' step need to pass consistent time flow criterion: step length in video time and step length in user timeline after speed of video adjustment should be equal. We allow 30 seconds difference for possible signal delay.\n",
    "\n",
    "We also have more sophisticated types. 'Concurrent' indicates that two actions occur at the same user time. 'WatchTooLong' indicates inactivity of users for a long time even though video is playing. 'BreakTooLong' indicates inactivity of users by breakign too long. \n",
    "$\\texttt{LongTime} = 1800 \\text{ sec} = 30 \\text{ min} $ here is threshold for inactivity.\n",
    "\n",
    "Finally, we have 'unexplained' steps. These are steps we cannot categorize by simple heurestic."
   ]
  },
  {
   "cell_type": "code",
   "execution_count": 77,
   "metadata": {
    "collapsed": false
   },
   "outputs": [],
   "source": [
    "raw.reset_index(inplace=True)\n",
    "raw.drop('index', axis=1, inplace=True)"
   ]
  },
  {
   "cell_type": "code",
   "execution_count": 78,
   "metadata": {
    "collapsed": false
   },
   "outputs": [],
   "source": [
    "LongTime = 1800\n",
    "raw['StepType'] = 'NaN'\n",
    "raw['UserStepLength'] = 0\n",
    "raw['VideoStepLength'] = 0\n",
    "\n",
    "OnOffSignal = 1\n",
    "WatchingStreakTime = 0\n",
    "for i in range(0,raw.shape[0]-1):         \n",
    "    #on-off signal can be triggered by these actions. This signal is used to distinguish watch and pause step type.\n",
    "    if raw.loc[i,'VideoActionTypeName'] == 'Play':\n",
    "        OnOffSignal = 1\n",
    "    if raw.loc[i,'VideoActionTypeName'] == 'Loaded':\n",
    "        OnOffSignal = 1\n",
    "    if raw.loc[i,'VideoActionTypeName'] == 'Pause':\n",
    "        OnOffSignal = 0\n",
    "    \n",
    "    #measure step length in user timeline and videotimeline\n",
    "    raw.loc[i,'UserStepLength'] = (raw.loc[i+1,'ActionTime']-raw.loc[i,'ActionTime']).total_seconds()\n",
    "    raw.loc[i,'VideoStepLength'] = (raw.loc[i+1,'StartTime']-raw.loc[i,'EndTime'])   \n",
    "    \n",
    "    #calculate watching streak to consider too long watch\n",
    "    if raw.loc[i,'VideoActionTypeName'] == 'MinuteMarker':\n",
    "        WatchingStreakTime = WatchingStreakTime + raw.loc[i,'UserStepLength']\n",
    "    else:\n",
    "        WatchingStreakTime = 0\n",
    "        \n",
    "    if raw.loc[i,'UserStepLength'] == 0:\n",
    "        raw.loc[i,'StepType'] = 'Concurrent'\n",
    "    elif (raw.loc[i,'VideoLogId'] != raw.loc[i+1,'VideoLogId'])|(raw.loc[i,'HashedUser'] != raw.loc[i+1,'HashedUser']):\n",
    "        raw.loc[i,'StepType'] = 'TransitionToNewVideoLogId'\n",
    "        OnOffSignal = 1\n",
    "    elif raw.loc[i,'VideoActionTypeName'] == 'End':\n",
    "        raw.loc[i,'StepType'] = 'StepAfterEndOfVideo'\n",
    "    elif OnOffSignal == 0:\n",
    "        raw.loc[i,'StepType'] = 'Break'\n",
    "    elif WatchingStreakTime > LongTime:\n",
    "        raw.loc[i,'StepType'] = 'WatchTooLong'\n",
    "        WatchingStreakTime = 0\n",
    "    else:\n",
    "        if((raw.loc[i,'VideoStepLength'] >= 0) &\n",
    "         (abs(raw.loc[i,'Speed']*raw.loc[i,'UserStepLength'] - raw.loc[i,'VideoStepLength']) <= 30)): \n",
    "            raw.loc[i,'StepType'] ='Watch'            \n",
    "        else:\n",
    "            raw.loc[i,'StepType'] ='Unexplained'\n",
    "\n",
    "#define step type for last entry\n",
    "raw.loc[raw.shape[0]-1,'StepType'] = 'TransitionToNewVideoLogId'\n",
    "\n",
    "#define step type for break too long\n",
    "raw.loc[(raw.StepType == 'Break') & (raw.UserStepLength > LongTime),'StepType'] = 'BreakTooLong'"
   ]
  },
  {
   "cell_type": "markdown",
   "metadata": {},
   "source": [
    "Here we collect some statistics about steps."
   ]
  },
  {
   "cell_type": "code",
   "execution_count": 79,
   "metadata": {
    "collapsed": false
   },
   "outputs": [
    {
     "data": {
      "text/plain": [
       "[216, 57, 0, 1, 0]"
      ]
     },
     "execution_count": 79,
     "metadata": {},
     "output_type": "execute_result"
    }
   ],
   "source": [
    "Essential.loc[Essential.shape[0]] = ['Number of raw actions', raw.shape[0]]\n",
    "Essential.loc[Essential.shape[0]] = ['Number of watch too long instances', sum(raw.StepType=='WatchTooLong')]\n",
    "Essential.loc[Essential.shape[0]] = ['Number of break too long instances', sum(raw.StepType=='BreakTooLong')]          \n",
    "[raw.shape[0],sum(raw.StepType=='Unexplained'),sum(raw.StepType=='Concurrent'),sum(raw.StepType=='WatchTooLong'),\n",
    " sum(raw.StepType=='BreakTooLong')]"
   ]
  },
  {
   "cell_type": "markdown",
   "metadata": {},
   "source": [
    "Now we would like to explain 'Unexplained'. We know that weird phenomena can happen when action 'Jump' appeared. This is likely due to scrubbing where timestamp of action may not be properly registered. So we define another step type called 'CloseToJump' to those unexplained steps if the head actions of such steps are close to action 'Jump' within 30 seconds. "
   ]
  },
  {
   "cell_type": "code",
   "execution_count": 80,
   "metadata": {
    "collapsed": false
   },
   "outputs": [],
   "source": [
    "UnexplainedIndex = [i for i, elem in enumerate(raw.StepType=='Unexplained') if elem]\n",
    "JumpSubset = raw[raw.VideoActionTypeName=='Jump']\n",
    "for i in UnexplainedIndex:\n",
    "    TimeMark = raw.loc[i,'ActionTime']\n",
    "    HashedUserMark = raw.loc[i,'HashedUser']\n",
    "    VideoLogIdMark = raw.loc[i,'VideoLogId']\n",
    "    TimeList = JumpSubset.ActionTime[(JumpSubset.HashedUser == HashedUserMark) & (JumpSubset.VideoLogId == VideoLogIdMark)]\n",
    "    for j in TimeList:\n",
    "        if abs((j - TimeMark).total_seconds())<30:\n",
    "            raw.loc[i,'StepType'] = 'CloseToJump'"
   ]
  },
  {
   "cell_type": "markdown",
   "metadata": {},
   "source": [
    "Here we collect some statistics about 'CloseToJump' and truly 'Unexplained' steps."
   ]
  },
  {
   "cell_type": "code",
   "execution_count": 81,
   "metadata": {
    "collapsed": false
   },
   "outputs": [
    {
     "data": {
      "text/plain": [
       "[216, 57, 0]"
      ]
     },
     "execution_count": 81,
     "metadata": {},
     "output_type": "execute_result"
    }
   ],
   "source": [
    "Essential.loc[Essential.shape[0]] = ['Number of close to jump steps', sum(raw.StepType=='CloseToJump')]\n",
    "Essential.loc[Essential.shape[0]] = ['Number of unexplained steps', sum(raw.StepType=='Unexplained')]\n",
    "[raw.shape[0],sum(raw.StepType=='Unexplained'),sum(raw.StepType=='CloseToJump')]"
   ]
  },
  {
   "cell_type": "markdown",
   "metadata": {},
   "source": [
    "## Define cut for watching session and session numbers assignment"
   ]
  },
  {
   "cell_type": "markdown",
   "metadata": {},
   "source": [
    "According to Guo, Kim and Rubin, 2014 (\"6-Minute rule\" paper), we will define cuts according to 3 heurestics: end of video, end of video log ID, and 30 minutes of inactivity 'WatchTooLong' and 'BreakTooLong'. These cuts are made right at the steps. Note that a cut on 'WatchTooLong' makes one minute worth of watching missing. We can compare later if such heuristic will affect our result."
   ]
  },
  {
   "cell_type": "code",
   "execution_count": 82,
   "metadata": {
    "collapsed": false
   },
   "outputs": [],
   "source": [
    "CutKeywords = ['TransitionToNewVideoLogId', 'StepAfterEndOfVideo', 'BreakTooLong', 'WatchTooLong']"
   ]
  },
  {
   "cell_type": "markdown",
   "metadata": {},
   "source": [
    "Now, we define assign watching session numbers for all timestamps: generic session number and seesion number by user. The first watching session is labelled 0. We also define watching session number specific to each user. That is, the first watching session number of each user is labelled 0. The next one is 1 and so on."
   ]
  },
  {
   "cell_type": "code",
   "execution_count": 83,
   "metadata": {
    "collapsed": false
   },
   "outputs": [],
   "source": [
    "raw['SessionNumber'] = 0\n",
    "raw['SessionNumberByUser'] = 0\n",
    "CutPoints = [i for i, elem in enumerate(raw.StepType.map(lambda x: x in CutKeywords)) if elem]\n",
    "NumSessions = len(CutPoints)\n",
    "j = 0\n",
    "for i in range(1,NumSessions):\n",
    "    raw.loc[(CutPoints[i-1]+1):(CutPoints[i]+1),'SessionNumber'] = i\n",
    "    if raw.loc[CutPoints[i-1]+1,'HashedUser'] == raw.loc[CutPoints[i-1],'HashedUser']:\n",
    "        j = j+1\n",
    "    else:\n",
    "        j = 0\n",
    "    raw.loc[(CutPoints[i-1]+1):(CutPoints[i]+1),'SessionNumberByUser'] = j\n",
    "#Don't need end point modification since last entry is always a cut point.\n",
    "#raw.SessionNumber.iloc[raw.shape[0]-1] = i\n",
    "#raw.SessionNumberByUser.iloc[raw.shape[0]-1] = j"
   ]
  },
  {
   "cell_type": "markdown",
   "metadata": {},
   "source": [
    "Here we collect some statistics about raw watching sessions."
   ]
  },
  {
   "cell_type": "code",
   "execution_count": 84,
   "metadata": {
    "collapsed": false
   },
   "outputs": [
    {
     "data": {
      "text/plain": [
       "[8, 16]"
      ]
     },
     "execution_count": 84,
     "metadata": {},
     "output_type": "execute_result"
    }
   ],
   "source": [
    "Essential.loc[Essential.shape[0]] = ['Number of raw watching sessions', NumSessions]\n",
    "[len(HashedUserList),NumSessions]"
   ]
  },
  {
   "cell_type": "markdown",
   "metadata": {},
   "source": [
    "## Watching sessions summary and clean data selection "
   ]
  },
  {
   "cell_type": "markdown",
   "metadata": {},
   "source": [
    "Here we can summary some statistics on each watching session."
   ]
  },
  {
   "cell_type": "code",
   "execution_count": 85,
   "metadata": {
    "collapsed": false
   },
   "outputs": [
    {
     "name": "stderr",
     "output_type": "stream",
     "text": [
      "C:\\Users\\Admin\\Anaconda\\lib\\site-packages\\IPython\\kernel\\__main__.py:22: SettingWithCopyWarning: \n",
      "A value is trying to be set on a copy of a slice from a DataFrame\n",
      "\n",
      "See the the caveats in the documentation: http://pandas.pydata.org/pandas-docs/stable/indexing.html#indexing-view-versus-copy\n"
     ]
    }
   ],
   "source": [
    "SessionSummary = pd.DataFrame({'SessionNumber': range(0,NumSessions)})\n",
    "SessionSummary['SessionNumberByUser'] = [0] + list(raw.loc[CutPoints[1:(len(CutPoints)+1)],'SessionNumberByUser'])\n",
    "SessionSummary['HashedUser'] = 'NaN'\n",
    "SessionSummary['UserType'] = 'NaN'\n",
    "SessionSummary['CutType'] = 'NaN'\n",
    "SessionSummary['HasConcurrent'] = False\n",
    "SessionSummary['HasCloseToJump'] = False\n",
    "SessionSummary['HasUnexplained'] = False\n",
    "SessionSummary['StartTimeStamp'] = 'NaN'\n",
    "SessionSummary['EndTimeStamp'] = 'NaN'\n",
    "SessionSummary['TimestampDiff'] = 0\n",
    "SessionSummary['TotalUserWatchTime'] = 0\n",
    "SessionSummary['TotalVideoWatchTime'] = 0\n",
    "SessionSummary['SessionStartVideoTime'] = 0\n",
    "SessionSummary['SessionEndVideoTime'] = 0\n",
    "SessionSummary['NumJumps'] = 0\n",
    "SessionSummary['NumPauses'] = 0\n",
    "\n",
    "for i in range(0,NumSessions):\n",
    "    d = raw.loc[raw.SessionNumber==i]\n",
    "    d.reset_index(inplace=True)\n",
    "    d.drop('index', axis=1, inplace=True)\n",
    "    SessionSummary.loc[i,'HashedUser'] = d.loc[0,'HashedUser']\n",
    "    \n",
    "    SessionSummary.loc[i,'UserType'] = d.loc[0,'UserType']\n",
    "    SessionSummary.loc[i,'CutType'] = d.loc[d.shape[0]-1,'StepType']\n",
    "    SessionSummary.loc[i,'HasConcurrent'] = 'Concurrent' in list(d.StepType)\n",
    "    SessionSummary.loc[i,'HasCloseToJump'] = 'CloseToJump' in list(d.StepType)\n",
    "    SessionSummary.loc[i,'HasUnexplained'] = 'Unexplained' in list(d.StepType)\n",
    "    SessionSummary.loc[i,'StartTimeStamp'] = d.loc[0,'ActionTime']\n",
    "    SessionSummary.loc[i,'EndTimeStamp'] = d.loc[d.shape[0]-1,'ActionTime']\n",
    "    SessionSummary.loc[i,'TimestampDiff'] = (SessionSummary.loc[i,'EndTimeStamp']- SessionSummary.loc[i,'StartTimeStamp']).total_seconds()\n",
    "    SessionSummary.loc[i,'TotalUserWatchTime'] = sum(d[d.StepType=='Watch'].UserStepLength)\n",
    "    SessionSummary.loc[i,'TotalVideoWatchTime'] = sum(d[d.StepType=='Watch'].VideoStepLength)\n",
    "    SessionSummary.loc[i,'SessionStartVideoTime'] = d.loc[0,'StartTime']\n",
    "    SessionSummary.loc[i,'SessionEndVideoTime'] = d.loc[d.shape[0]-1,'EndTime']\n",
    "    SessionSummary.loc[i,'NumJumps'] = sum(d.VideoActionTypeName=='Jump')\n",
    "    SessionSummary.loc[i,'NumPauses'] = sum(d.VideoActionTypeName=='Pause')"
   ]
  },
  {
   "cell_type": "markdown",
   "metadata": {},
   "source": [
    "Observe that there are several accidental \"watching sessions\": time stamp difference is less than 5 seconds according to Guo, Kim and Rubin (2014). "
   ]
  },
  {
   "cell_type": "code",
   "execution_count": 86,
   "metadata": {
    "collapsed": false
   },
   "outputs": [
    {
     "data": {
      "text/plain": [
       "[8.0, 16]"
      ]
     },
     "execution_count": 86,
     "metadata": {},
     "output_type": "execute_result"
    }
   ],
   "source": [
    "Essential.loc[Essential.shape[0]] = ['Number of accidential watching sessions', sum(SessionSummary.TimestampDiff<5)]\n",
    "[float(sum(SessionSummary.TimestampDiff>=5)),  SessionSummary.shape[0]]#/SessionSummary.shape[0]"
   ]
  },
  {
   "cell_type": "markdown",
   "metadata": {},
   "source": [
    "We would like to throw those sessions away and re-enumerate session number by user accordingly."
   ]
  },
  {
   "cell_type": "code",
   "execution_count": 87,
   "metadata": {
    "collapsed": false
   },
   "outputs": [],
   "source": [
    "#5 seconds throw away\n",
    "raw = raw[raw.SessionNumber.map(lambda x: x in list(SessionSummary.SessionNumber[SessionSummary.TimestampDiff>=5]))]\n",
    "SessionSummary = SessionSummary[SessionSummary.TimestampDiff>=5]\n",
    "#reindex"
   ]
  },
  {
   "cell_type": "code",
   "execution_count": 88,
   "metadata": {
    "collapsed": false
   },
   "outputs": [],
   "source": [
    "raw.reset_index(inplace=True)\n",
    "raw.drop('index', axis=1, inplace=True)\n",
    "SessionSummary.reset_index(inplace=True)\n",
    "SessionSummary.drop('index', axis=1, inplace=True)"
   ]
  },
  {
   "cell_type": "code",
   "execution_count": 89,
   "metadata": {
    "collapsed": false
   },
   "outputs": [],
   "source": [
    "#re-enumerate session number by user in raw data frame\n",
    "previous = raw.loc[0,'SessionNumber']\n",
    "raw.loc[0,'SessionNumber'] = 0\n",
    "j = 0\n",
    "k = 0\n",
    "for i in range(1,raw.shape[0]):\n",
    "    if raw.loc[i,'SessionNumber'] != previous:\n",
    "        previous = raw.loc[i,'SessionNumber']\n",
    "        j = j+1\n",
    "        if raw.loc[i,'HashedUser'] == raw.loc[i-1,'HashedUser']:\n",
    "            k = k+1\n",
    "        else:\n",
    "            k = 0\n",
    "    raw.loc[i,'SessionNumber'] = j\n",
    "    raw.loc[i,'SessionNumberByUser'] = k"
   ]
  },
  {
   "cell_type": "code",
   "execution_count": 90,
   "metadata": {
    "collapsed": false
   },
   "outputs": [],
   "source": [
    "#re-enumerate session number by user in session summary data frame\n",
    "previous = SessionSummary.loc[0,'SessionNumber']\n",
    "SessionSummary.loc[0,'SessionNumber'] = 0\n",
    "j = 0\n",
    "k = 0\n",
    "for i in range(1,SessionSummary.shape[0]):\n",
    "    if SessionSummary.loc[i,'SessionNumber'] != previous:\n",
    "        previous = SessionSummary.loc[i,'SessionNumber']\n",
    "        j = j+1\n",
    "        if SessionSummary.loc[i,'HashedUser'] == SessionSummary.loc[i-1,'HashedUser']:\n",
    "            k = k+1\n",
    "        else:\n",
    "            k = 0\n",
    "    SessionSummary.loc[i,'SessionNumber'] = j\n",
    "    SessionSummary.loc[i,'SessionNumberByUser'] = k"
   ]
  },
  {
   "cell_type": "markdown",
   "metadata": {},
   "source": [
    "Here we may look at number of steps and sessions with unwanted behaviors. "
   ]
  },
  {
   "cell_type": "code",
   "execution_count": 91,
   "metadata": {
    "collapsed": false
   },
   "outputs": [
    {
     "data": {
      "text/plain": [
       "[207, 57, 0, 1, 0]"
      ]
     },
     "execution_count": 91,
     "metadata": {},
     "output_type": "execute_result"
    }
   ],
   "source": [
    "[raw.shape[0],sum(raw.StepType=='Unexplained'),sum(raw.StepType=='Concurrent'),sum(raw.StepType=='WatchTooLong'),\n",
    " sum(raw.StepType=='BreakTooLong')]"
   ]
  },
  {
   "cell_type": "code",
   "execution_count": 92,
   "metadata": {
    "collapsed": false
   },
   "outputs": [
    {
     "data": {
      "text/plain": [
       "[8, 0, 0, 4, 0]"
      ]
     },
     "execution_count": 92,
     "metadata": {},
     "output_type": "execute_result"
    }
   ],
   "source": [
    "[SessionSummary.shape[0], sum(SessionSummary.HasConcurrent==True),sum(SessionSummary.HasCloseToJump==True),\\\n",
    "               sum(SessionSummary.HasUnexplained==True),sum(SessionSummary.TimestampDiff>10800)]"
   ]
  },
  {
   "cell_type": "markdown",
   "metadata": {},
   "source": [
    "From the session summary data frame, we may call following watching sessions as 'dirty' watching sessions if it has concurrent steps, close to jump steps, or unexplained steps. To maintain amount of data, we decide to use $\\textbf{only unexplained steps}$ as criterion to determine dirty watching sessions.\n",
    "\n",
    "We also remove watching sessions with $\\textbf{too long user timestamp difference}$ (due to possible logic failure from missing signals). We set threshold to $3 \\text{ hr} = 10800 \\text{ sec}$\n",
    "\n",
    "We have two choices to clean data: throw away just those dirty watching sessions or throw away all data of users who have dirty watching sessions. Here I decide to throw away $\\textbf{all data of users who have dirty watching sessions}$. This will make analysis on user's first watching session vs. later watching sessions easier.\n",
    "\n",
    "From this, we can now define 'DirtyHashedUserList', 'CleanSessionSummary', and 'CleanData'."
   ]
  },
  {
   "cell_type": "code",
   "execution_count": 93,
   "metadata": {
    "collapsed": false
   },
   "outputs": [],
   "source": [
    "#DirtyHashedUserList = list(set(SessionSummary[(SessionSummary.HasConcurrent==True)|(SessionSummary.HasCloseToJump==True)|\n",
    "#               (SessionSummary.HasUnexplained==True)|(SessionSummary.TimestampDiff>10800)].HashedUser))\n",
    "DirtyHashedUserList = list(set(SessionSummary[(SessionSummary.HasUnexplained==True)|(SessionSummary.TimestampDiff>10800)].HashedUser))\n",
    "\n",
    "CleanSessionSummary = SessionSummary.loc[[i for i, \n",
    "                                           elem in enumerate(SessionSummary.HashedUser.map(lambda x: not(x in DirtyHashedUserList))) if elem]]\n",
    "CleanData = raw.loc[[i for i, \n",
    "                                           elem in enumerate(raw.HashedUser.map(lambda x: not(x in DirtyHashedUserList))) if elem]]\n"
   ]
  },
  {
   "cell_type": "markdown",
   "metadata": {},
   "source": [
    "Here we summarize information about clean data that we will use later."
   ]
  },
  {
   "cell_type": "code",
   "execution_count": 94,
   "metadata": {
    "collapsed": false
   },
   "outputs": [
    {
     "data": {
      "text/plain": [
       "[3, 1, 3, 1, 4]"
      ]
     },
     "execution_count": 94,
     "metadata": {},
     "output_type": "execute_result"
    }
   ],
   "source": [
    "[len(set(CleanData[CleanData.UserType == 'WEBAUTH'].HashedUser)),\\\n",
    " len(set(CleanData[CleanData.UserType == 'ONECE'].HashedUser)),\\\n",
    " len(set(CleanSessionSummary[CleanSessionSummary.UserType=='WEBAUTH'].HashedUser)),\\\n",
    " len(set(CleanSessionSummary[CleanSessionSummary.UserType=='ONECE'].HashedUser)),\\\n",
    " len(set(CleanSessionSummary.HashedUser))]"
   ]
  },
  {
   "cell_type": "code",
   "execution_count": 95,
   "metadata": {
    "collapsed": false
   },
   "outputs": [
    {
     "data": {
      "text/plain": [
       "[4, 4]"
      ]
     },
     "execution_count": 95,
     "metadata": {},
     "output_type": "execute_result"
    }
   ],
   "source": [
    "Essential.loc[Essential.shape[0]] = ['Number of users after cleaning', len(set(CleanData.HashedUser))]\n",
    "Essential.loc[Essential.shape[0]] = ['Number of WEBAUTH users after cleaning',\\\n",
    "                                     len(set(CleanData[CleanData.UserType == 'WEBAUTH'].HashedUser))]\n",
    "Essential.loc[Essential.shape[0]] = ['Number of ONECE users after cleaning',\\\n",
    "                                     len(set(CleanData[CleanData.UserType == 'ONECE'].HashedUser))]\n",
    "Essential.loc[Essential.shape[0]] = ['Number of actions after cleaning', CleanData.shape[0]]\n",
    "Essential.loc[Essential.shape[0]] = ['Number of sessions after cleaning', CleanSessionSummary.shape[0]]\n",
    "[len(set(CleanSessionSummary.HashedUser)),CleanSessionSummary.shape[0]]"
   ]
  },
  {
   "cell_type": "code",
   "execution_count": 96,
   "metadata": {
    "collapsed": false
   },
   "outputs": [
    {
     "data": {
      "text/html": [
       "<div style=\"max-height:1000px;max-width:1500px;overflow:auto;\">\n",
       "<table border=\"1\" class=\"dataframe\">\n",
       "  <thead>\n",
       "    <tr style=\"text-align: right;\">\n",
       "      <th></th>\n",
       "      <th>Key</th>\n",
       "      <th>Value</th>\n",
       "    </tr>\n",
       "  </thead>\n",
       "  <tbody>\n",
       "    <tr>\n",
       "      <th>0 </th>\n",
       "      <td>                             Course Name</td>\n",
       "      <td>        CS110_ClassX</td>\n",
       "    </tr>\n",
       "    <tr>\n",
       "      <th>1 </th>\n",
       "      <td>                              Video Name</td>\n",
       "      <td> CS11002Apr2014_Full</td>\n",
       "    </tr>\n",
       "    <tr>\n",
       "      <th>2 </th>\n",
       "      <td>                                 Quarter</td>\n",
       "      <td>         Spring 2014</td>\n",
       "    </tr>\n",
       "    <tr>\n",
       "      <th>3 </th>\n",
       "      <td>                            Lecture Date</td>\n",
       "      <td>          2014-04-02</td>\n",
       "    </tr>\n",
       "    <tr>\n",
       "      <th>4 </th>\n",
       "      <td>                           Duration[sec]</td>\n",
       "      <td>                2926</td>\n",
       "    </tr>\n",
       "    <tr>\n",
       "      <th>5 </th>\n",
       "      <td>                           Duration[min]</td>\n",
       "      <td>                  48</td>\n",
       "    </tr>\n",
       "    <tr>\n",
       "      <th>6 </th>\n",
       "      <td>                     Number of raw users</td>\n",
       "      <td>                   8</td>\n",
       "    </tr>\n",
       "    <tr>\n",
       "      <th>7 </th>\n",
       "      <td>             Number of raw WEBAUTH users</td>\n",
       "      <td>                   6</td>\n",
       "    </tr>\n",
       "    <tr>\n",
       "      <th>8 </th>\n",
       "      <td>               Number of raw ONECE users</td>\n",
       "      <td>                   1</td>\n",
       "    </tr>\n",
       "    <tr>\n",
       "      <th>9 </th>\n",
       "      <td>                   Number of raw actions</td>\n",
       "      <td>                 216</td>\n",
       "    </tr>\n",
       "    <tr>\n",
       "      <th>10</th>\n",
       "      <td>      Number of watch too long instances</td>\n",
       "      <td>                   1</td>\n",
       "    </tr>\n",
       "    <tr>\n",
       "      <th>11</th>\n",
       "      <td>      Number of break too long instances</td>\n",
       "      <td>                   0</td>\n",
       "    </tr>\n",
       "    <tr>\n",
       "      <th>12</th>\n",
       "      <td>           Number of close to jump steps</td>\n",
       "      <td>                   0</td>\n",
       "    </tr>\n",
       "    <tr>\n",
       "      <th>13</th>\n",
       "      <td>             Number of unexplained steps</td>\n",
       "      <td>                  57</td>\n",
       "    </tr>\n",
       "    <tr>\n",
       "      <th>14</th>\n",
       "      <td>         Number of raw watching sessions</td>\n",
       "      <td>                  16</td>\n",
       "    </tr>\n",
       "    <tr>\n",
       "      <th>15</th>\n",
       "      <td> Number of accidential watching sessions</td>\n",
       "      <td>                   8</td>\n",
       "    </tr>\n",
       "    <tr>\n",
       "      <th>16</th>\n",
       "      <td>          Number of users after cleaning</td>\n",
       "      <td>                   4</td>\n",
       "    </tr>\n",
       "    <tr>\n",
       "      <th>17</th>\n",
       "      <td>  Number of WEBAUTH users after cleaning</td>\n",
       "      <td>                   3</td>\n",
       "    </tr>\n",
       "    <tr>\n",
       "      <th>18</th>\n",
       "      <td>    Number of ONECE users after cleaning</td>\n",
       "      <td>                   1</td>\n",
       "    </tr>\n",
       "    <tr>\n",
       "      <th>19</th>\n",
       "      <td>        Number of actions after cleaning</td>\n",
       "      <td>                 146</td>\n",
       "    </tr>\n",
       "    <tr>\n",
       "      <th>20</th>\n",
       "      <td>       Number of sessions after cleaning</td>\n",
       "      <td>                   4</td>\n",
       "    </tr>\n",
       "  </tbody>\n",
       "</table>\n",
       "</div>"
      ],
      "text/plain": [
       "                                        Key                Value\n",
       "0                               Course Name         CS110_ClassX\n",
       "1                                Video Name  CS11002Apr2014_Full\n",
       "2                                   Quarter          Spring 2014\n",
       "3                              Lecture Date           2014-04-02\n",
       "4                             Duration[sec]                 2926\n",
       "5                             Duration[min]                   48\n",
       "6                       Number of raw users                    8\n",
       "7               Number of raw WEBAUTH users                    6\n",
       "8                 Number of raw ONECE users                    1\n",
       "9                     Number of raw actions                  216\n",
       "10       Number of watch too long instances                    1\n",
       "11       Number of break too long instances                    0\n",
       "12            Number of close to jump steps                    0\n",
       "13              Number of unexplained steps                   57\n",
       "14          Number of raw watching sessions                   16\n",
       "15  Number of accidential watching sessions                    8\n",
       "16           Number of users after cleaning                    4\n",
       "17   Number of WEBAUTH users after cleaning                    3\n",
       "18     Number of ONECE users after cleaning                    1\n",
       "19         Number of actions after cleaning                  146\n",
       "20        Number of sessions after cleaning                    4"
      ]
     },
     "execution_count": 96,
     "metadata": {},
     "output_type": "execute_result"
    }
   ],
   "source": [
    "Essential"
   ]
  },
  {
   "cell_type": "markdown",
   "metadata": {},
   "source": [
    "Here we record clean data, clean session summary, and essential information."
   ]
  },
  {
   "cell_type": "code",
   "execution_count": 400,
   "metadata": {
    "collapsed": false
   },
   "outputs": [],
   "source": [
    "CleanData.to_csv(OutputBigDirectory+\"/CleanData.csv\",index=False)\n",
    "CleanSessionSummary.to_csv(OutputBigDirectory+\"/CleanSessionSummary.csv\",index=False)\n",
    "Essential.to_csv(OutputSmallDirectory+\"/CleaningSummary.csv\",index=False)"
   ]
  },
  {
   "cell_type": "markdown",
   "metadata": {},
   "source": [
    "## Wrap up"
   ]
  },
  {
   "cell_type": "markdown",
   "metadata": {},
   "source": [
    "We wrap this up as a function $\\texttt{CleanData(coursename,videoname)}$ assuming that relevant video data file is in place. Once function is called CleanData, CleanSessionSummary, and Essential data frame are created in output directories."
   ]
  },
  {
   "cell_type": "code",
   "execution_count": 401,
   "metadata": {
    "collapsed": false
   },
   "outputs": [],
   "source": [
    "def CleanData( coursename, videoname ):    \n",
    "    \n",
    "    #insert all codes above here\n",
    "    \n",
    "    print coursename + \":\" + videoname + \" is cleaned :)\";\n",
    "    return;"
   ]
  }
 ],
 "metadata": {
  "kernelspec": {
   "display_name": "Python 2",
   "language": "python",
   "name": "python2"
  },
  "language_info": {
   "codemirror_mode": {
    "name": "ipython",
    "version": 2
   },
   "file_extension": ".py",
   "mimetype": "text/x-python",
   "name": "python",
   "nbconvert_exporter": "python",
   "pygments_lexer": "ipython2",
   "version": "2.7.8"
  }
 },
 "nbformat": 4,
 "nbformat_minor": 0
}
