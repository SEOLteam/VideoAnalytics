{
 "metadata": {
  "name": "",
  "signature": "sha256:26c95bfa5cffc351221f58ed28e5145f9df12fb670ed28fd5de2fb2c58fabce7"
 },
 "nbformat": 3,
 "nbformat_minor": 0,
 "worksheets": [
  {
   "cells": [
    {
     "cell_type": "heading",
     "level": 1,
     "metadata": {},
     "source": [
      "Actions, Steps, Watching Sessions and Cleaning"
     ]
    },
    {
     "cell_type": "heading",
     "level": 2,
     "metadata": {},
     "source": [
      "Define directories, data files, and actions with formatting."
     ]
    },
    {
     "cell_type": "markdown",
     "metadata": {},
     "source": [
      "First, we specify course name and specific video name that we want to process."
     ]
    },
    {
     "cell_type": "code",
     "collapsed": false,
     "input": [
      "coursename = 'CS229'\n",
      "videoname = 'CS22922Sep2014'"
     ],
     "language": "python",
     "metadata": {},
     "outputs": [],
     "prompt_number": 13
    },
    {
     "cell_type": "markdown",
     "metadata": {},
     "source": [
      "Here we import package for data analysis called 'pandas' and other relevant packages."
     ]
    },
    {
     "cell_type": "code",
     "collapsed": false,
     "input": [
      "import pandas as pd\n",
      "import numpy as np\n",
      "import matplotlib.pyplot as plt\n",
      "import os\n",
      "import datetime\n",
      "import math\n",
      "%matplotlib inline"
     ],
     "language": "python",
     "metadata": {},
     "outputs": [],
     "prompt_number": 14
    },
    {
     "cell_type": "markdown",
     "metadata": {},
     "source": [
      "Next, we specify main directory and create output directories. \"Big\" directory contains outputs that requires further processing. \"Small\" directory contains outputs that requires no/little processing."
     ]
    },
    {
     "cell_type": "code",
     "collapsed": false,
     "input": [
      "#Main directory contains data (this is my local machine)\n",
      "mainDir = 'C:/Users/Tee/Documents/Active/EducationProject/SEOL/VideoAnalytics/main'\n",
      "#set up output directory\n",
      "OutputBigDirectory = mainDir + '/output/big/'+ coursename +'/'+ videoname \n",
      "OutputSmallDirectory = mainDir + '/output/small/'+ coursename +'/'+ videoname\n",
      "if not os.path.exists(OutputBigDirectory):\n",
      "    os.makedirs(OutputBigDirectory)\n",
      "if not os.path.exists(OutputSmallDirectory):\n",
      "    os.makedirs(OutputSmallDirectory)"
     ],
     "language": "python",
     "metadata": {},
     "outputs": [],
     "prompt_number": 15
    },
    {
     "cell_type": "markdown",
     "metadata": {},
     "source": [
      "Read correspond raw CSV file. The data folder should be on the main directory."
     ]
    },
    {
     "cell_type": "code",
     "collapsed": false,
     "input": [
      "#We want HashedUser and VideoActionTypeName to be string for sorting purpose\n",
      "raw = pd.read_csv(mainDir+'/data/'+ coursename + '/' + videoname +'.csv',\n",
      "                  dtype={'HashedUser':'object','VideoActionTypeName':'object'})"
     ],
     "language": "python",
     "metadata": {},
     "outputs": [],
     "prompt_number": 16
    },
    {
     "cell_type": "markdown",
     "metadata": {},
     "source": [
      "In raw data frame, there are number of columns. Several of them are just general information of the course and video, which are same across all rows. We will keep those general information in another data frame called 'Essential'."
     ]
    },
    {
     "cell_type": "code",
     "collapsed": false,
     "input": [
      "Essential = pd.DataFrame({'Key':['Course Name'],'Value':[coursename]})\n",
      "Essential.loc[Essential.shape[0]] = ['Quarter',raw.QuarterName[0] + ' ' + str(raw.QuarterYear[0])]\n",
      "Essential.loc[Essential.shape[0]] = ['Lecture Date',raw.LectureDate[0]]\n",
      "Essential.loc[Essential.shape[0]] = ['Duration[sec]',raw.Duration[0]]\n",
      "Essential.loc[Essential.shape[0]] = ['Duraction[min]',int(math.ceil(raw.Duration[0]/60))]\n",
      "\n",
      "#Identify the maximum second and minute marker\n",
      "MaxSecondMarker = raw.Duration[0]\n",
      "MaxMinuteMarker = MaxSecondMarker/60+1\n",
      "\n",
      "#select only relevant columns\n",
      "KeepColumns = ['VideoLogId','VideoActionLogId','HashedUser','ActionTime','StartTime','EndTime','VideoActionTypeName','Speed','Resolution']\n",
      "raw = raw[KeepColumns]"
     ],
     "language": "python",
     "metadata": {},
     "outputs": [],
     "prompt_number": 17
    },
    {
     "cell_type": "markdown",
     "metadata": {},
     "source": [
      "In raw data frame, each row represents one $\\textbf{action}$. There are several kinds of action:\n",
      "\n",
      "1) Actions done by users ($\\texttt{VideoActionTypeName}$ = 'play,pause,jump,speedchange,resolutionchange').\n",
      "\n",
      "2) Actions done by the system at the beginning and end of video (($\\texttt{VideoActionTypeName}$  = 'loaded, end') or during the video ($\\texttt{VideoActionTypeName}$  = integer indicated the minute mark that play passes). \n",
      "\n",
      "3) Actions derived by the system from previous actions ($\\texttt{VideoActionTypeName}$  = 'Watching').  \n",
      "\n",
      "We remove the 3rd kind of action out and rename all integers in $\\texttt{VideoActionTypeName}$  as 'MinuteMarker'.\n",
      "\n",
      "$\\texttt{StartTime}$  and $\\texttt{EndTime}$ are quantities indicating where action starts and ends in video timeline. Action 'Jump' has both $\\texttt{StartTime}$ and $\\texttt{EndTime}$ recorded. For other actions, $\\texttt{EndTime}$ is set to be -1. For the sake of futher processing, we will define $\\texttt{EndTime}$ for other actions to be equal to $\\texttt{StartTime}$."
     ]
    },
    {
     "cell_type": "code",
     "collapsed": false,
     "input": [
      "#deselect data with VideoActionTypeName 'Watching'\n",
      "raw = raw[raw.VideoActionTypeName != 'Watching']\n",
      "\n",
      "#convert ActionTime (aka. user timestamp) into datetime format\n",
      "raw.ActionTime = raw.ActionTime.map(lambda x: datetime.datetime.strptime(x,\"%Y-%m-%d %H:%M:%S.%f\"))\n",
      "#convert 1,2,..., MaxMinuteMarker as 'MinuteMarker'\n",
      "raw.VideoActionTypeName[raw.VideoActionTypeName.map(lambda x: x in map(str, range(1,MaxMinuteMarker+1)))] = 'MinuteMarker'\n",
      "\n",
      "#add EndTime to single video timestamp entry\n",
      "raw.EndTime[raw.VideoActionTypeName != 'Jump'] = raw.StartTime[raw.VideoActionTypeName != 'Jump']"
     ],
     "language": "python",
     "metadata": {},
     "outputs": [],
     "prompt_number": 18
    },
    {
     "cell_type": "markdown",
     "metadata": {},
     "source": [
      "It is useful to sort data according to users then by $\\texttt{ActionTime}$ (timestamp in user timeline). We record number of users in raw data in Essential data frame."
     ]
    },
    {
     "cell_type": "code",
     "collapsed": false,
     "input": [
      "#sort data by HashedUser then by ActionTime\n",
      "raw.sort(['HashedUser', 'ActionTime'],inplace=True)\n",
      "\n",
      "#create a list of users\n",
      "HashedUserList = sorted(list(set(raw.HashedUser)))\n",
      "\n",
      "Essential.loc[Essential.shape[0]] = ['Number of raw users',len(HashedUserList)]"
     ],
     "language": "python",
     "metadata": {},
     "outputs": [],
     "prompt_number": 19
    },
    {
     "cell_type": "heading",
     "level": 2,
     "metadata": {},
     "source": [
      "Define steps"
     ]
    },
    {
     "cell_type": "markdown",
     "metadata": {},
     "source": [
      "Now that we have a stream of actions sorted by users then by timestamp in user timeline, we define $\\textbf{step}$ as interval between two actions. Step $i$ is between action $i$ and $i+1$ and stored in the same row as action $i$. \n",
      "\n",
      "For each step, we can define step length in user timeline and in video timeline. Note that these two measures are not same. For example, between action 'Pause' and 'Play', step length in user timeline is likely to be greater tha zero, while step length in video timeline is zero.\n",
      "\n",
      "For each step, we can also define step type. Basic types are 'TransitionToNewVideoLogId','Watch','Break', and 'StepAfterEndOfVideo'. Note that 'TransitionToNew VideoLogId' indicates the change of video log IDs. These log IDs change every time the page is re-logined. 'Watch' step need to pass consistent time flow criterion: step length in video time and step length in user timeline after speed of video adjustment should be equal. We allow 30 seconds difference for possible signal delay.\n",
      "\n",
      "We also have more sophisticated types. 'Concurrent' indicates that two actions occur at the same user time. 'WatchTooLong' indicates inactivity of users for a long time even though video is playing. 'BreakTooLong' indicates inactivity of users by breakign too long. \n",
      "$\\texttt{LongTime} = 1800 \\text{ sec} = 30 \\text{ min} $ here is threshold for inactivity.\n",
      "\n",
      "Finally, we have 'unexplained' steps. These are steps we cannot categorize by simple heurestic."
     ]
    },
    {
     "cell_type": "code",
     "collapsed": false,
     "input": [
      "LongTime = 1800\n",
      "raw['StepType'] = 'NaN'\n",
      "raw['UserStepLength'] = 0\n",
      "raw['VideoStepLength'] = 0\n",
      "\n",
      "OnOffSignal = 1\n",
      "WatchingStreakTime = 0\n",
      "for i in range(0,raw.shape[0]-1):         \n",
      "    #on-off signal can be triggered by these actions. This signal is used to distinguish watch and pause step type.\n",
      "    if raw.VideoActionTypeName.iloc[i] == 'Play':\n",
      "        OnOffSignal = 1\n",
      "    if raw.VideoActionTypeName.iloc[i] == 'Loaded':\n",
      "        OnOffSignal = 1\n",
      "    if raw.VideoActionTypeName.iloc[i] == 'Pause':\n",
      "        OnOffSignal = 0\n",
      "    \n",
      "    #measure step length in user timeline and videotimeline\n",
      "    raw.UserStepLength.iloc[i] = (raw.ActionTime.iloc[i+1]-raw.ActionTime.iloc[i]).total_seconds()\n",
      "    raw.VideoStepLength.iloc[i] = (raw.StartTime.iloc[i+1]-raw.EndTime.iloc[i])   \n",
      "    \n",
      "    #calculate watching streak to consider too long watch\n",
      "    if raw.VideoActionTypeName.iloc[i] == 'MinuteMarker':\n",
      "        WatchingStreakTime = WatchingStreakTime + raw.UserStepLength.iloc[i]\n",
      "    else:\n",
      "        WatchingStreakTime = 0\n",
      "        \n",
      "    if raw.UserStepLength.iloc[i] == 0:\n",
      "        raw.StepType.iloc[i] = 'Concurrent'\n",
      "    elif (raw.VideoLogId.iloc[i] != raw.VideoLogId.iloc[i+1])|(raw.HashedUser.iloc[i] != raw.HashedUser.iloc[i+1]):\n",
      "        raw.StepType.iloc[i] = 'TransitionToNewVideoLogId'\n",
      "        OnOffSignal = 1\n",
      "    elif raw.VideoActionTypeName.iloc[i] == 'End':\n",
      "        raw.StepType.iloc[i] = 'StepAfterEndOfVideo'\n",
      "    elif OnOffSignal == 0:\n",
      "        raw.StepType.iloc[i] = 'Break'\n",
      "    elif WatchingStreakTime > LongTime:\n",
      "        raw.StepType.iloc[i] = 'WatchTooLong'\n",
      "        WatchingStreakTime = 0\n",
      "    else:\n",
      "        if((raw.VideoStepLength.iloc[i] >= 0) &\n",
      "         (abs(raw.Speed.iloc[i]*raw.UserStepLength.iloc[i] - raw.VideoStepLength.iloc[i]) <= 30)): \n",
      "            raw.StepType.iloc[i] ='Watch'            \n",
      "        else:\n",
      "            raw.StepType.iloc[i] ='Unexplained'\n",
      "\n",
      "#define step type for last entry\n",
      "raw.StepType.iloc[raw.shape[0]-1] = 'TransitionToNewVideoLogId'\n",
      "\n",
      "#define step type for break too long\n",
      "raw.StepType[(raw.StepType == 'Break') & (raw.UserStepLength > LongTime)] = 'BreakTooLong'"
     ],
     "language": "python",
     "metadata": {},
     "outputs": [],
     "prompt_number": 20
    },
    {
     "cell_type": "markdown",
     "metadata": {},
     "source": [
      "Here we collect some statistics about steps."
     ]
    },
    {
     "cell_type": "code",
     "collapsed": false,
     "input": [
      "Essential.loc[Essential.shape[0]] = ['Number of raw actions', raw.shape[0]]\n",
      "Essential.loc[Essential.shape[0]] = ['Number of watch too long instances', sum(raw.StepType=='WatchTooLong')]\n",
      "Essential.loc[Essential.shape[0]] = ['Number of break too long instances', sum(raw.StepType=='BreakTooLong')]          \n",
      "[raw.shape[0],sum(raw.StepType=='Unexplained'),sum(raw.StepType=='Concurrent'),sum(raw.StepType=='WatchTooLong'),\n",
      " sum(raw.StepType=='BreakTooLong')]"
     ],
     "language": "python",
     "metadata": {},
     "outputs": [
      {
       "metadata": {},
       "output_type": "pyout",
       "prompt_number": 21,
       "text": [
        "[47874, 1060, 39, 153, 240]"
       ]
      }
     ],
     "prompt_number": 21
    },
    {
     "cell_type": "markdown",
     "metadata": {},
     "source": [
      "Now we would like to explain 'Unexplained'. We know that weird phenomena can happen when action 'Jump' appeared. This is likely due to scrubbing where timestamp of action may not be properly registered. So we define another step type called 'CloseToJump' to those unexplained steps if the head actions of such steps are close to action 'Jump' within 30 seconds. "
     ]
    },
    {
     "cell_type": "code",
     "collapsed": false,
     "input": [
      "UnexplainedIndex = [i for i, elem in enumerate(raw.StepType=='Unexplained') if elem]\n",
      "JumpSubset = raw[raw.VideoActionTypeName=='Jump']\n",
      "for i in UnexplainedIndex:\n",
      "    TimeMark = raw.ActionTime.iloc[i]\n",
      "    HashedUserMark = raw.HashedUser.iloc[i]\n",
      "    VideoLogIdMark = raw.VideoLogId.iloc[i]\n",
      "    TimeList = JumpSubset.ActionTime[(JumpSubset.HashedUser == HashedUserMark) & (JumpSubset.VideoLogId == VideoLogIdMark)]\n",
      "    for j in TimeList:\n",
      "        if abs((j - TimeMark).total_seconds())<30:\n",
      "            raw.StepType.iloc[i] = 'CloseToJump'"
     ],
     "language": "python",
     "metadata": {},
     "outputs": [],
     "prompt_number": 22
    },
    {
     "cell_type": "markdown",
     "metadata": {},
     "source": [
      "Here we collect some statistics about 'CloseToJump' and truly 'Unexplained' steps."
     ]
    },
    {
     "cell_type": "code",
     "collapsed": false,
     "input": [
      "Essential.loc[Essential.shape[0]] = ['Number of close to jump steps', sum(raw.StepType=='CloseToJump')]\n",
      "Essential.loc[Essential.shape[0]] = ['Number of unexplained steps', sum(raw.StepType=='Unexplained')]\n",
      "[raw.shape[0],sum(raw.StepType=='Unexplained'),sum(raw.StepType=='CloseToJump')]"
     ],
     "language": "python",
     "metadata": {},
     "outputs": [
      {
       "metadata": {},
       "output_type": "pyout",
       "prompt_number": 23,
       "text": [
        "[47874, 429, 631]"
       ]
      }
     ],
     "prompt_number": 23
    },
    {
     "cell_type": "heading",
     "level": 2,
     "metadata": {},
     "source": [
      "Define cut for watching session and session numbers assignment"
     ]
    },
    {
     "cell_type": "markdown",
     "metadata": {},
     "source": [
      "According to Guo, Kim and Rubin, 2014 (\"6-Minute rule\" paper), we will define cuts according to 3 heurestics: end of video, end of video log ID, and 30 minutes of inactivity 'WatchTooLong' and 'BreakTooLong'. These cuts are made right at the steps. Note that a cut on 'WatchTooLong' makes one minute worth of watching missing. We can compare later if such heuristic will affect our result."
     ]
    },
    {
     "cell_type": "code",
     "collapsed": false,
     "input": [
      "CutKeywords = ['TransitionToNewVideoLogId', 'StepAfterEndOfVideo', 'BreakTooLong', 'WatchTooLong']"
     ],
     "language": "python",
     "metadata": {},
     "outputs": [],
     "prompt_number": 24
    },
    {
     "cell_type": "markdown",
     "metadata": {},
     "source": [
      "Now, we define assign watching session numbers for all timestamps: generic session number and seesion number by user. The first watching session is labelled 0. We also define watching session number specific to each user. That is, the first watching session number of each user is labelled 0. The next one is 1 and so on."
     ]
    },
    {
     "cell_type": "code",
     "collapsed": false,
     "input": [
      "raw['SessionNumber'] = 0\n",
      "raw['SessionNumberByUser'] = 0\n",
      "CutPoints = [i for i, elem in enumerate(raw.StepType.map(lambda x: x in CutKeywords)) if elem]\n",
      "NumSessions = len(CutPoints)\n",
      "j = 0\n",
      "for i in range(1,NumSessions):\n",
      "    raw.SessionNumber.iloc[(CutPoints[i-1]+1):(CutPoints[i]+1)] = i\n",
      "    if raw.HashedUser.iloc[CutPoints[i-1]+1] == raw.HashedUser.iloc[CutPoints[i-1]]:\n",
      "        j = j+1\n",
      "    else:\n",
      "        j = 0\n",
      "    raw.SessionNumberByUser.iloc[(CutPoints[i-1]+1):(CutPoints[i]+1)] = j\n",
      "#Don't need end point modification since last entry is always a cut point.\n",
      "#raw.SessionNumber.iloc[raw.shape[0]-1] = i\n",
      "#raw.SessionNumberByUser.iloc[raw.shape[0]-1] = j"
     ],
     "language": "python",
     "metadata": {},
     "outputs": [],
     "prompt_number": 25
    },
    {
     "cell_type": "markdown",
     "metadata": {},
     "source": [
      "Here we collect some statistics about raw watching sessions."
     ]
    },
    {
     "cell_type": "code",
     "collapsed": false,
     "input": [
      "Essential.loc[Essential.shape[0]] = ['Number of raw watching sessions', NumSessions]\n",
      "[len(HashedUserList),NumSessions]"
     ],
     "language": "python",
     "metadata": {},
     "outputs": [
      {
       "metadata": {},
       "output_type": "pyout",
       "prompt_number": 26,
       "text": [
        "[737, 1832]"
       ]
      }
     ],
     "prompt_number": 26
    },
    {
     "cell_type": "heading",
     "level": 2,
     "metadata": {},
     "source": [
      "Watching sessions summary and clean data selection "
     ]
    },
    {
     "cell_type": "markdown",
     "metadata": {},
     "source": [
      "Here we can summary some statistics on each watching session."
     ]
    },
    {
     "cell_type": "code",
     "collapsed": false,
     "input": [
      "SessionSummary = pd.DataFrame({'SessionNumber': range(0,NumSessions)})\n",
      "SessionSummary['SessionNumberByUser'] = [0] + list(raw.SessionNumberByUser.iloc[CutPoints[1:(len(CutPoints)+1)]])\n",
      "SessionSummary['HashedUser'] = 'NaN'\n",
      "SessionSummary['CutType'] = 'NaN'\n",
      "SessionSummary['HasConcurrent'] = False\n",
      "SessionSummary['HasCloseToJump'] = False\n",
      "SessionSummary['HasUnexplained'] = False\n",
      "SessionSummary['StartTimeStamp'] = 'NaN'\n",
      "SessionSummary['EndTimeStamp'] = 'NaN'\n",
      "SessionSummary['TimestampDiff'] = 0\n",
      "SessionSummary['TotalUserWatchTime'] = 0\n",
      "SessionSummary['TotalVideoWatchTime'] = 0\n",
      "SessionSummary['SessionStartVideoTime'] = 0\n",
      "SessionSummary['SessionEndVideoTime'] = 0\n",
      "SessionSummary['NumJumps'] = 0\n",
      "SessionSummary['NumPauses'] = 0\n",
      "for i in range(0,NumSessions):\n",
      "    d = raw[raw.SessionNumber==i]\n",
      "    SessionSummary.HashedUser[i] = d.HashedUser.iloc[0]\n",
      "    SessionSummary.CutType[i] = d.StepType.iloc[-1]\n",
      "    SessionSummary.HasConcurrent[i] = 'Concurrent' in list(d.StepType)\n",
      "    SessionSummary.HasCloseToJump[i] = 'CloseToJump' in list(d.StepType)\n",
      "    SessionSummary.HasUnexplained[i] = 'Unexplained' in list(d.StepType)\n",
      "    SessionSummary.StartTimeStamp[i] = d.ActionTime.iloc[0]\n",
      "    SessionSummary.EndTimeStamp[i] = d.ActionTime.iloc[-1]\n",
      "    SessionSummary.TimestampDiff[i] = (SessionSummary.EndTimeStamp[i]- SessionSummary.StartTimeStamp[i]).total_seconds()\n",
      "    SessionSummary.TotalUserWatchTime[i] = sum(d[d.StepType=='Watch'].UserStepLength)\n",
      "    SessionSummary.TotalVideoWatchTime[i] = sum(d[d.StepType=='Watch'].VideoStepLength)\n",
      "    SessionSummary.SessionStartVideoTime[i] = d.StartTime.iloc[0]\n",
      "    SessionSummary.SessionEndVideoTime[i] = d.EndTime.iloc[-1]\n",
      "    SessionSummary.NumJumps[i] = sum(d.VideoActionTypeName=='Jump')\n",
      "    SessionSummary.NumPauses[i] = sum(d.VideoActionTypeName=='Pause')"
     ],
     "language": "python",
     "metadata": {},
     "outputs": [],
     "prompt_number": 27
    },
    {
     "cell_type": "markdown",
     "metadata": {},
     "source": [
      "Observe that there are several accidental watching sessions: time stamp difference is less than 5 seconds according to Guo, Kim and Rubin (2014). "
     ]
    },
    {
     "cell_type": "code",
     "collapsed": false,
     "input": [
      "[float(sum(SessionSummary.TimestampDiff>=5)),  SessionSummary.shape[0]]#/SessionSummary.shape[0]"
     ],
     "language": "python",
     "metadata": {},
     "outputs": [
      {
       "metadata": {},
       "output_type": "pyout",
       "prompt_number": 28,
       "text": [
        "[1419.0, 1832]"
       ]
      }
     ],
     "prompt_number": 28
    },
    {
     "cell_type": "markdown",
     "metadata": {},
     "source": [
      "We would like to throw those sessions away and re-enumerate session number by user accordingly."
     ]
    },
    {
     "cell_type": "code",
     "collapsed": false,
     "input": [
      "#5 seconds throw away\n",
      "raw = raw[raw.SessionNumber.map(lambda x: x in list(SessionSummary.SessionNumber[SessionSummary.TimestampDiff>=5]))]\n",
      "SessionSummary = SessionSummary[SessionSummary.TimestampDiff>=5]"
     ],
     "language": "python",
     "metadata": {},
     "outputs": [],
     "prompt_number": 29
    },
    {
     "cell_type": "code",
     "collapsed": false,
     "input": [
      "#re-enumerate session number by user in raw data frame\n",
      "previous = raw.SessionNumber.iloc[0]\n",
      "raw.SessionNumber.iloc[0] = 0\n",
      "j = 0\n",
      "k = 0\n",
      "for i in range(1,raw.shape[0]):\n",
      "    if raw.SessionNumber.iloc[i] != previous:\n",
      "        previous = raw.SessionNumber.iloc[i]\n",
      "        j = j+1\n",
      "        if raw.HashedUser.iloc[i] == raw.HashedUser.iloc[i-1]:\n",
      "            k = k+1\n",
      "        else:\n",
      "            k = 0\n",
      "    raw.SessionNumber.iloc[i] = j\n",
      "    raw.SessionNumberByUser.iloc[i] = k"
     ],
     "language": "python",
     "metadata": {},
     "outputs": [],
     "prompt_number": 30
    },
    {
     "cell_type": "code",
     "collapsed": false,
     "input": [
      "#re-enumerate session number by user in session summary data frame\n",
      "previous = SessionSummary.SessionNumber.iloc[0]\n",
      "SessionSummary.SessionNumber.iloc[0] = 0\n",
      "j = 0\n",
      "k = 0\n",
      "for i in range(1,SessionSummary.shape[0]):\n",
      "    if SessionSummary.SessionNumber.iloc[i] != previous:\n",
      "        previous = SessionSummary.SessionNumber.iloc[i]\n",
      "        j = j+1\n",
      "        if SessionSummary.HashedUser.iloc[i] == SessionSummary.HashedUser.iloc[i-1]:\n",
      "            k = k+1\n",
      "        else:\n",
      "            k = 0\n",
      "    SessionSummary.SessionNumber.iloc[i] = j\n",
      "    SessionSummary.SessionNumberByUser.iloc[i] = k"
     ],
     "language": "python",
     "metadata": {},
     "outputs": [],
     "prompt_number": 31
    },
    {
     "cell_type": "markdown",
     "metadata": {},
     "source": [
      "Here we may look at number of steps and sessions with unwanted behaviors. "
     ]
    },
    {
     "cell_type": "code",
     "collapsed": false,
     "input": [
      "[raw.shape[0],sum(raw.StepType=='Unexplained'),sum(raw.StepType=='Concurrent'),sum(raw.StepType=='WatchTooLong'),\n",
      " sum(raw.StepType=='BreakTooLong')]"
     ],
     "language": "python",
     "metadata": {},
     "outputs": [
      {
       "metadata": {},
       "output_type": "pyout",
       "prompt_number": 32,
       "text": [
        "[47323, 421, 33, 153, 230]"
       ]
      }
     ],
     "prompt_number": 32
    },
    {
     "cell_type": "code",
     "collapsed": false,
     "input": [
      "[SessionSummary.shape[0], sum(SessionSummary.HasConcurrent==True),sum(SessionSummary.HasCloseToJump==True),sum\\\n",
      "               (SessionSummary.HasUnexplained==True),sum(SessionSummary.TimestampDiff>10800)]"
     ],
     "language": "python",
     "metadata": {},
     "outputs": [
      {
       "metadata": {},
       "output_type": "pyout",
       "prompt_number": 33,
       "text": [
        "[1419, 24, 195, 142, 3]"
       ]
      }
     ],
     "prompt_number": 33
    },
    {
     "cell_type": "markdown",
     "metadata": {},
     "source": [
      "From the session summary data frame, we may call following watching sessions as 'dirty' watching sessions if it has concurrent steps, close to jump steps, or unexplained steps. To maintain amount of data, we decide to use only unexplained steps as criterion to determine dirty watching sessions.\n",
      "\n",
      "We also remove watching sessions with too long user timestamp difference (due to possible logic failure from missing signals). We set threshold to $3 \\text{ hr} = 10800 \\text{ sec}$\n",
      "\n",
      "We have two choices to clean data: throw away just those dirty watching sessions or throw away all data of users who have dirty watching sessions. Here I decide to use second choice. This will make analysis on user's first watching session vs. later watching sessions easier.\n",
      "\n",
      "From this, we can now define 'DirtyHashedUserList', 'CleanSessionSummary', and 'CleanData'."
     ]
    },
    {
     "cell_type": "code",
     "collapsed": false,
     "input": [
      "#DirtyHashedUserList = list(set(SessionSummary[(SessionSummary.HasConcurrent==True)|(SessionSummary.HasCloseToJump==True)|\n",
      "#               (SessionSummary.HasUnexplained==True)|(SessionSummary.TimestampDiff>10800)].HashedUser))\n",
      "DirtyHashedUserList = list(set(SessionSummary[(SessionSummary.HasUnexplained==True)|(SessionSummary.TimestampDiff>10800)].HashedUser))\n",
      "\n",
      "CleanSessionSummary = SessionSummary.iloc[[i for i, \n",
      "                                           elem in enumerate(SessionSummary.HashedUser.map(lambda x: not(x in DirtyHashedUserList))) if elem]]\n",
      "CleanData = raw.iloc[[i for i, \n",
      "                                           elem in enumerate(raw.HashedUser.map(lambda x: not(x in DirtyHashedUserList))) if elem]]\n"
     ],
     "language": "python",
     "metadata": {},
     "outputs": [],
     "prompt_number": 34
    },
    {
     "cell_type": "markdown",
     "metadata": {},
     "source": [
      "Here we summarize information about clean data that we will use later."
     ]
    },
    {
     "cell_type": "code",
     "collapsed": false,
     "input": [
      "Essential.loc[Essential.shape[0]] = ['Number of users after cleaning', len(HashedUserList)-len(DirtyHashedUserList)]\n",
      "Essential.loc[Essential.shape[0]] = ['Number of actions after cleaning', CleanData.shape[0]]\n",
      "Essential.loc[Essential.shape[0]] = ['Number of sessions after cleaning', CleanSessionSummary.shape[0]]\n",
      "[len(HashedUserList)-len(DirtyHashedUserList),CleanSessionSummary.shape[0]]"
     ],
     "language": "python",
     "metadata": {},
     "outputs": [
      {
       "metadata": {},
       "output_type": "pyout",
       "prompt_number": 35,
       "text": [
        "[627, 1052]"
       ]
      }
     ],
     "prompt_number": 35
    },
    {
     "cell_type": "markdown",
     "metadata": {},
     "source": [
      "Here we record clean data, clean session summary, and essential information."
     ]
    },
    {
     "cell_type": "code",
     "collapsed": false,
     "input": [
      "CleanData.to_csv(OutputBigDirectory+\"/CleanData.csv\",index=False)\n",
      "CleanSessionSummary.to_csv(OutputBigDirectory+\"/CleanSessionSummary.csv\",index=False)\n",
      "Essential.to_csv(OutputSmallDirectory+\"/Essential.csv\",index=False)"
     ],
     "language": "python",
     "metadata": {},
     "outputs": [],
     "prompt_number": 36
    },
    {
     "cell_type": "heading",
     "level": 2,
     "metadata": {},
     "source": [
      "Wrap up"
     ]
    },
    {
     "cell_type": "markdown",
     "metadata": {},
     "source": [
      "We wrap this up as a function $\\texttt{CleanData(coursename,videoname)}$ assuming that relevant video data file is in place. Once function is called CleanData, CleanSessionSummary, and Essential data frame are created in output directories."
     ]
    },
    {
     "cell_type": "code",
     "collapsed": false,
     "input": [
      "def CleanData( coursename, videoname ):    \n",
      "    #################Define directories, data files, and actions with formatting.######################\n",
      "    import pandas as pd\n",
      "    import numpy as np\n",
      "    import matplotlib.pyplot as plt\n",
      "    import os\n",
      "    import datetime\n",
      "    import math\n",
      "    %matplotlib inline\n",
      "\n",
      "    #Main directory contains data (this is my local machine)\n",
      "    mainDir = 'C:/Users/Tee/Documents/Active/EducationProject/SEOL/VideoAnalytics/main'\n",
      "    #set up output directory\n",
      "    OutputBigDirectory = mainDir + '/output/big/'+ coursename +'/'+ videoname \n",
      "    OutputSmallDirectory = mainDir + '/output/small/'+ coursename +'/'+ videoname\n",
      "    if not os.path.exists(OutputBigDirectory):\n",
      "        os.makedirs(OutputBigDirectory)\n",
      "    if not os.path.exists(OutputSmallDirectory):\n",
      "        os.makedirs(OutputSmallDirectory)\n",
      "        \n",
      "    #We want HashedUser and VideoActionTypeName to be string for sorting purpose\n",
      "    raw = pd.read_csv(mainDir+'/data/'+ coursename + '/' + videoname +'.csv',\n",
      "                  dtype={'HashedUser':'object','VideoActionTypeName':'object'})\n",
      "\n",
      "    Essential = pd.DataFrame({'Key':['Course Name'],'Value':[coursename]})\n",
      "    Essential.loc[Essential.shape[0]] = ['Quarter',raw.QuarterName[0] + ' ' + str(raw.QuarterYear[0])]\n",
      "    Essential.loc[Essential.shape[0]] = ['Lecture Date',raw.LectureDate[0]]\n",
      "    Essential.loc[Essential.shape[0]] = ['Duration[sec]',raw.Duration[0]]\n",
      "    Essential.loc[Essential.shape[0]] = ['Duraction[min]',int(math.ceil(raw.Duration[0]/60))]\n",
      " \n",
      "    #Identify the maximum second and minute marker\n",
      "    MaxSecondMarker = raw.Duration[0]\n",
      "    MaxMinuteMarker = MaxSecondMarker/60+1\n",
      " \n",
      "    #select only relevant columns\n",
      "    KeepColumns = ['VideoLogId','VideoActionLogId','HashedUser','ActionTime','StartTime','EndTime','VideoActionTypeName','Speed','Resolution']\n",
      "    raw = raw[KeepColumns]\n",
      "\n",
      "    #deselect data with VideoActionTypeName 'Watching'\n",
      "    raw = raw[raw.VideoActionTypeName != 'Watching']\n",
      " \n",
      "    #convert ActionTime (aka. user timestamp) into datetime format\n",
      "    raw.ActionTime = raw.ActionTime.map(lambda x: datetime.datetime.strptime(x,\"%Y-%m-%d %H:%M:%S.%f\"))\n",
      "    #convert 1,2,..., MaxMinuteMarker as 'MinuteMarker'\n",
      "    raw.VideoActionTypeName[raw.VideoActionTypeName.map(lambda x: x in map(str, range(1,MaxMinuteMarker+1)))] = 'MinuteMarker'\n",
      " \n",
      "    #add EndTime to single video timestamp entry\n",
      "    raw.EndTime[raw.VideoActionTypeName != 'Jump'] = raw.StartTime[raw.VideoActionTypeName != 'Jump']\n",
      "\n",
      "    #sort data by HashedUser then by ActionTime\n",
      "    raw.sort(['HashedUser', 'ActionTime'],inplace=True)\n",
      " \n",
      "    #create a list of users\n",
      "    HashedUserList = sorted(list(set(raw.HashedUser)))\n",
      " \n",
      "    Essential.loc[Essential.shape[0]] = ['Number of raw users',len(HashedUserList)]\n",
      "    \n",
      "    ###########################Define steps##############################################\n",
      "    LongTime = 1800\n",
      "    raw['StepType'] = 'NaN'\n",
      "    raw['UserStepLength'] = 0\n",
      "    raw['VideoStepLength'] = 0\n",
      " \n",
      "    OnOffSignal = 1\n",
      "    WatchingStreakTime = 0\n",
      "    for i in range(0,raw.shape[0]-1):         \n",
      "        #on-off signal can be triggered by these actions. This signal is used to distinguish watch and pause step type.\n",
      "        if raw.VideoActionTypeName.iloc[i] == 'Play':\n",
      "            OnOffSignal = 1\n",
      "        if raw.VideoActionTypeName.iloc[i] == 'Loaded':\n",
      "            OnOffSignal = 1\n",
      "        if raw.VideoActionTypeName.iloc[i] == 'Pause':\n",
      "            OnOffSignal = 0\n",
      "\n",
      "        #measure step length in user timeline and videotimeline\n",
      "        raw.UserStepLength.iloc[i] = (raw.ActionTime.iloc[i+1]-raw.ActionTime.iloc[i]).total_seconds()\n",
      "        raw.VideoStepLength.iloc[i] = (raw.StartTime.iloc[i+1]-raw.EndTime.iloc[i])   \n",
      "\n",
      "        #calculate watching streak to consider too long watch\n",
      "        if raw.VideoActionTypeName.iloc[i] == 'MinuteMarker':\n",
      "            WatchingStreakTime = WatchingStreakTime + raw.UserStepLength.iloc[i]\n",
      "        else:\n",
      "            WatchingStreakTime = 0\n",
      "\n",
      "        if raw.UserStepLength.iloc[i] == 0:\n",
      "            raw.StepType.iloc[i] = 'Concurrent'\n",
      "        elif (raw.VideoLogId.iloc[i] != raw.VideoLogId.iloc[i+1])|(raw.HashedUser.iloc[i] != raw.HashedUser.iloc[i+1]):\n",
      "            raw.StepType.iloc[i] = 'TransitionToNewVideoLogId'\n",
      "            OnOffSignal = 1\n",
      "        elif raw.VideoActionTypeName.iloc[i] == 'End':\n",
      "            raw.StepType.iloc[i] = 'StepAfterEndOfVideo'\n",
      "        elif OnOffSignal == 0:\n",
      "            raw.StepType.iloc[i] = 'Break'\n",
      "        elif WatchingStreakTime > LongTime:\n",
      "            raw.StepType.iloc[i] = 'WatchTooLong'\n",
      "            WatchingStreakTime = 0\n",
      "        else:\n",
      "            if((raw.VideoStepLength.iloc[i] >= 0) &\n",
      "             (abs(raw.Speed.iloc[i]*raw.UserStepLength.iloc[i] - raw.VideoStepLength.iloc[i]) <= 30)): \n",
      "                raw.StepType.iloc[i] ='Watch'            \n",
      "            else:\n",
      "                raw.StepType.iloc[i] ='Unexplained'\n",
      " \n",
      "    #define step type for last entry\n",
      "    raw.StepType.iloc[raw.shape[0]-1] = 'TransitionToNewVideoLogId'\n",
      "\n",
      "    #define step type for break too long\n",
      "    raw.StepType[(raw.StepType == 'Break') & (raw.UserStepLength > LongTime)] = 'BreakTooLong'\n",
      "\n",
      "    Essential.loc[Essential.shape[0]] = ['Number of raw actions', raw.shape[0]]\n",
      "    Essential.loc[Essential.shape[0]] = ['Number of watch too long instances', sum(raw.StepType=='WatchTooLong')]\n",
      "    Essential.loc[Essential.shape[0]] = ['Number of break too long instances', sum(raw.StepType=='BreakTooLong')]          \n",
      "\n",
      "    UnexplainedIndex = [i for i, elem in enumerate(raw.StepType=='Unexplained') if elem]\n",
      "    JumpSubset = raw[raw.VideoActionTypeName=='Jump']\n",
      "    for i in UnexplainedIndex:\n",
      "        TimeMark = raw.ActionTime.iloc[i]\n",
      "        HashedUserMark = raw.HashedUser.iloc[i]\n",
      "        VideoLogIdMark = raw.VideoLogId.iloc[i]\n",
      "        TimeList = JumpSubset.ActionTime[(JumpSubset.HashedUser == HashedUserMark) & (JumpSubset.VideoLogId == VideoLogIdMark)]\n",
      "        for j in TimeList:\n",
      "            if abs((j - TimeMark).total_seconds())<30:\n",
      "                raw.StepType.iloc[i] = 'CloseToJump'\n",
      "\n",
      "    Essential.loc[Essential.shape[0]] = ['Number of close to jump steps', sum(raw.StepType=='CloseToJump')]\n",
      "    Essential.loc[Essential.shape[0]] = ['Number of unexplained steps', sum(raw.StepType=='Unexplained')]\n",
      "\n",
      "    ############Define cut for watching session and session numbers assignment##############\n",
      "\n",
      "    CutKeywords = ['TransitionToNewVideoLogId', 'StepAfterEndOfVideo', 'BreakTooLong', 'WatchTooLong']\n",
      "\n",
      "    raw['SessionNumber'] = 0\n",
      "    raw['SessionNumberByUser'] = 0\n",
      "    CutPoints = [i for i, elem in enumerate(raw.StepType.map(lambda x: x in CutKeywords)) if elem]\n",
      "    NumSessions = len(CutPoints)\n",
      "    j = 0\n",
      "    for i in range(1,NumSessions):\n",
      "        raw.SessionNumber.iloc[(CutPoints[i-1]+1):(CutPoints[i]+1)] = i\n",
      "        if raw.HashedUser.iloc[CutPoints[i-1]+1] == raw.HashedUser.iloc[CutPoints[i-1]]:\n",
      "            j = j+1\n",
      "        else:\n",
      "            j = 0\n",
      "        raw.SessionNumberByUser.iloc[(CutPoints[i-1]+1):(CutPoints[i]+1)] = j\n",
      "    #Don't need end point modification since last entry is always a cut point.\n",
      "    #raw.SessionNumber.iloc[raw.shape[0]-1] = i\n",
      "    #raw.SessionNumberByUser.iloc[raw.shape[0]-1] = j\n",
      "\n",
      "    Essential.loc[Essential.shape[0]] = ['Number of raw watching sessions', NumSessions]\n",
      "\n",
      "    ####################Watching sessions summary and clean data selection#####################\n",
      "\n",
      "    SessionSummary = pd.DataFrame({'SessionNumber': range(0,NumSessions)})\n",
      "    SessionSummary['SessionNumberByUser'] = [0] + list(raw.SessionNumberByUser.iloc[CutPoints[1:(len(CutPoints)+1)]])\n",
      "    SessionSummary['HashedUser'] = 'NaN'\n",
      "    SessionSummary['CutType'] = 'NaN'\n",
      "    SessionSummary['HasConcurrent'] = False\n",
      "    SessionSummary['HasCloseToJump'] = False\n",
      "    SessionSummary['HasUnexplained'] = False\n",
      "    SessionSummary['StartTimeStamp'] = 'NaN'\n",
      "    SessionSummary['EndTimeStamp'] = 'NaN'\n",
      "    SessionSummary['TimestampDiff'] = 0\n",
      "    SessionSummary['TotalUserWatchTime'] = 0\n",
      "    SessionSummary['TotalVideoWatchTime'] = 0\n",
      "    SessionSummary['SessionStartVideoTime'] = 0\n",
      "    SessionSummary['SessionEndVideoTime'] = 0\n",
      "    SessionSummary['NumJumps'] = 0\n",
      "    SessionSummary['NumPauses'] = 0\n",
      "    for i in range(0,NumSessions):\n",
      "        d = raw[raw.SessionNumber==i]\n",
      "        SessionSummary.HashedUser[i] = d.HashedUser.iloc[0]\n",
      "        SessionSummary.CutType[i] = d.StepType.iloc[-1]\n",
      "        SessionSummary.HasConcurrent[i] = 'Concurrent' in list(d.StepType)\n",
      "        SessionSummary.HasCloseToJump[i] = 'CloseToJump' in list(d.StepType)\n",
      "        SessionSummary.HasUnexplained[i] = 'Unexplained' in list(d.StepType)\n",
      "        SessionSummary.StartTimeStamp[i] = d.ActionTime.iloc[0]\n",
      "        SessionSummary.EndTimeStamp[i] = d.ActionTime.iloc[-1]\n",
      "        SessionSummary.TimestampDiff[i] = (SessionSummary.EndTimeStamp[i]- SessionSummary.StartTimeStamp[i]).total_seconds()\n",
      "        SessionSummary.TotalUserWatchTime[i] = sum(d[d.StepType=='Watch'].UserStepLength)\n",
      "        SessionSummary.TotalVideoWatchTime[i] = sum(d[d.StepType=='Watch'].VideoStepLength)\n",
      "        SessionSummary.SessionStartVideoTime[i] = d.StartTime.iloc[0]\n",
      "        SessionSummary.SessionEndVideoTime[i] = d.EndTime.iloc[-1]\n",
      "        SessionSummary.NumJumps[i] = sum(d.VideoActionTypeName=='Jump')\n",
      "        SessionSummary.NumPauses[i] = sum(d.VideoActionTypeName=='Pause')\n",
      "\n",
      "    #5 seconds throw away\n",
      "    raw = raw[raw.SessionNumber.map(lambda x: x in list(SessionSummary.SessionNumber[SessionSummary.TimestampDiff>=5]))]\n",
      "    SessionSummary = SessionSummary[SessionSummary.TimestampDiff>=5]\n",
      "\n",
      "    #re-enumerate session number by user in raw data frame\n",
      "    previous = raw.SessionNumber.iloc[0]\n",
      "    raw.SessionNumber.iloc[0] = 0\n",
      "    j = 0\n",
      "    k = 0\n",
      "    for i in range(1,raw.shape[0]):\n",
      "        if raw.SessionNumber.iloc[i] != previous:\n",
      "            previous = raw.SessionNumber.iloc[i]\n",
      "            j = j+1\n",
      "            if raw.HashedUser.iloc[i] == raw.HashedUser.iloc[i-1]:\n",
      "                k = k+1\n",
      "            else:\n",
      "                k = 0\n",
      "        raw.SessionNumber.iloc[i] = j\n",
      "        raw.SessionNumberByUser.iloc[i] = k\n",
      "\n",
      "    #re-enumerate session number by user in session summary data frame\n",
      "    previous = SessionSummary.SessionNumber.iloc[0]\n",
      "    SessionSummary.SessionNumber.iloc[0] = 0\n",
      "    j = 0\n",
      "    k = 0\n",
      "    for i in range(1,SessionSummary.shape[0]):\n",
      "        if SessionSummary.SessionNumber.iloc[i] != previous:\n",
      "            previous = SessionSummary.SessionNumber.iloc[i]\n",
      "            j = j+1\n",
      "            if SessionSummary.HashedUser.iloc[i] == SessionSummary.HashedUser.iloc[i-1]:\n",
      "                k = k+1\n",
      "            else:\n",
      "                k = 0\n",
      "        SessionSummary.SessionNumber.iloc[i] = j\n",
      "        SessionSummary.SessionNumberByUser.iloc[i] = k\n",
      "\n",
      "\n",
      "    #DirtyHashedUserList = list(set(SessionSummary[(SessionSummary.HasConcurrent==True)|(SessionSummary.HasCloseToJump==True)|\n",
      "    #               (SessionSummary.HasUnexplained==True)|(SessionSummary.TimestampDiff>10800)].HashedUser))\n",
      "    DirtyHashedUserList = list(set(SessionSummary[(SessionSummary.HasUnexplained==True)|(SessionSummary.TimestampDiff>10800)].HashedUser))\n",
      "\n",
      "    CleanSessionSummary = SessionSummary.iloc[[i for i, \n",
      "                                               elem in enumerate(SessionSummary.HashedUser.map(lambda x: not(x in DirtyHashedUserList))) if elem]]\n",
      "    CleanData = raw.iloc[[i for i, \n",
      "                                               elem in enumerate(raw.HashedUser.map(lambda x: not(x in DirtyHashedUserList))) if elem]]\n",
      "\n",
      "    Essential.loc[Essential.shape[0]] = ['Number of users after cleaning', len(HashedUserList)-len(DirtyHashedUserList)]\n",
      "    Essential.loc[Essential.shape[0]] = ['Number of actions after cleaning', CleanData.shape[0]]\n",
      "    Essential.loc[Essential.shape[0]] = ['Number of sessions after cleaning', CleanSessionSummary.shape[0]]\n",
      "\n",
      "    CleanData.to_csv(OutputBigDirectory+\"/CleanData.csv\",index=False)\n",
      "    CleanSessionSummary.to_csv(OutputBigDirectory+\"/CleanSessionSummary.csv\",index=False)\n",
      "    Essential.to_csv(OutputSmallDirectory+\"/Essential.csv\",index=False)\n",
      "    \n",
      "    print coursename + \":\" + videoname + \" is cleaned :)\";\n",
      "    return;"
     ],
     "language": "python",
     "metadata": {},
     "outputs": [],
     "prompt_number": 37
    }
   ],
   "metadata": {}
  }
 ]
}